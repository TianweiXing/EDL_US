{
 "cells": [
  {
   "cell_type": "code",
   "execution_count": 1,
   "metadata": {},
   "outputs": [
    {
     "name": "stderr",
     "output_type": "stream",
     "text": [
      "/home/tianwei/anaconda3/lib/python3.6/site-packages/h5py/__init__.py:36: FutureWarning: Conversion of the second argument of issubdtype from `float` to `np.floating` is deprecated. In future, it will be treated as `np.float64 == np.dtype(float).type`.\n",
      "  from ._conv import register_converters as _register_converters\n"
     ]
    }
   ],
   "source": [
    "import tensorflow as tf\n",
    "import pickle\n",
    "import numpy as np"
   ]
  },
  {
   "cell_type": "code",
   "execution_count": 2,
   "metadata": {},
   "outputs": [
    {
     "name": "stdout",
     "output_type": "stream",
     "text": [
      "SaveModeltt/ttt.pb\n"
     ]
    }
   ],
   "source": [
    "model_filepath = 'SaveModeltt/ttt.pb'\n",
    "\n",
    "print(model_filepath)"
   ]
  },
  {
   "cell_type": "code",
   "execution_count": 3,
   "metadata": {},
   "outputs": [
    {
     "name": "stdout",
     "output_type": "stream",
     "text": [
      "Loading model...\n",
      "Check out the input placeholders:\n",
      "input => Placeholder\n"
     ]
    }
   ],
   "source": [
    "'''\n",
    "Lode trained model.\n",
    "'''\n",
    "print('Loading model...')\n",
    "graph = tf.Graph()\n",
    "sess = tf.InteractiveSession(graph = graph)\n",
    "\n",
    "with tf.gfile.GFile(model_filepath, 'rb') as f:\n",
    "    graph_def = tf.GraphDef()\n",
    "    graph_def.ParseFromString(f.read())\n",
    "\n",
    "print('Check out the input placeholders:')\n",
    "nodes = [n.name + ' => ' +  n.op for n in graph_def.node if n.op in ('Placeholder')]\n",
    "for node in nodes:\n",
    "    print(node)"
   ]
  },
  {
   "cell_type": "code",
   "execution_count": 4,
   "metadata": {},
   "outputs": [
    {
     "name": "stdout",
     "output_type": "stream",
     "text": [
      "Model loading complete!\n"
     ]
    }
   ],
   "source": [
    "# Define input tensor\n",
    "model_input = tf.placeholder(tf.float32, shape=[None,40,40,3], name = 'input')\n",
    "\n",
    "\n",
    "# model_input = tf.placeholder(np.float32, shape = [None, 32, 32, 3], name='input')\n",
    "# dropout_rate = tf.placeholder(tf.float32, shape = [], name = 'dropout_rate')\n",
    "\n",
    "tf.import_graph_def(graph_def, {'input': model_input})\n",
    "\n",
    "print('Model loading complete!')"
   ]
  },
  {
   "cell_type": "code",
   "execution_count": 5,
   "metadata": {},
   "outputs": [],
   "source": [
    "# Know your output node name\n",
    "output_tensor = graph.get_tensor_by_name(\"import/logits_tensor/BiasAdd:0\")\n",
    "# output = sess.run(output_tensor, feed_dict =  {model_input:  X_test[0:2] })"
   ]
  },
  {
   "cell_type": "markdown",
   "metadata": {},
   "source": [
    "# Loading data"
   ]
  },
  {
   "cell_type": "code",
   "execution_count": 6,
   "metadata": {},
   "outputs": [],
   "source": [
    "def one_hot_encode(labels, num_class):\n",
    "    n_labels = len(labels)\n",
    "#     n_unique_labels = len(np.unique(labels))\n",
    "    n_unique_labels = num_class\n",
    "    one_hot_encode = np.zeros((n_labels,n_unique_labels))\n",
    "    one_hot_encode[np.arange(n_labels), labels] = 1\n",
    "    return one_hot_encode"
   ]
  },
  {
   "cell_type": "code",
   "execution_count": 7,
   "metadata": {},
   "outputs": [
    {
     "name": "stdout",
     "output_type": "stream",
     "text": [
      "Start loading data\n",
      "Data loaded\n",
      "(54154, 40, 40, 3)\n",
      "(54154, 10)\n",
      "For batch of size 256: \n",
      " 211 batches in test\n"
     ]
    }
   ],
   "source": [
    "## GET DATA TO WORK ON\n",
    "print(\"Start loading data\")\n",
    "\n",
    "fd = open(\"data_x.pkl\", 'rb')\n",
    "fd2 = open(\"data_y.pkl\", 'rb')\n",
    "features = pickle.load(fd)\n",
    "labels = pickle.load(fd2)\n",
    "\n",
    "print(\"Data loaded\")\n",
    "\n",
    "# all testing data\n",
    "X_test = features[:]\n",
    "Y_test = labels[:]\n",
    "\n",
    "X_test = X_test.astype('float32')\n",
    "X_test /= 255\n",
    "\n",
    "## one hot encoding\n",
    "Y_test = one_hot_encode(Y_test, 10)\n",
    "\n",
    "print(X_test.shape)\n",
    "print(Y_test.shape)\n",
    "\n",
    "batch_size = 256\n",
    "\n",
    "n_batches_test = Y_test.shape[0]//batch_size\n",
    "print('For batch of size %d: \\n %d batches in test'%(batch_size, n_batches_test))"
   ]
  },
  {
   "cell_type": "markdown",
   "metadata": {},
   "source": [
    "# Testing on loaded model"
   ]
  },
  {
   "cell_type": "code",
   "execution_count": 18,
   "metadata": {},
   "outputs": [
    {
     "name": "stdout",
     "output_type": "stream",
     "text": [
      "(5, 10)\n"
     ]
    }
   ],
   "source": [
    "output = sess.run(output_tensor, feed_dict =  {model_input:  X_test[0:5] })\n",
    "print(output.shape)"
   ]
  },
  {
   "cell_type": "code",
   "execution_count": 19,
   "metadata": {},
   "outputs": [
    {
     "name": "stdout",
     "output_type": "stream",
     "text": [
      "[7 7 7 7 7]\n"
     ]
    }
   ],
   "source": [
    "def predict_label(logits_output):\n",
    "    predict_y = np.argmax(logits_output, axis = 1)\n",
    "    return predict_y\n",
    "\n",
    "print(predict_label(output))"
   ]
  },
  {
   "cell_type": "code",
   "execution_count": 25,
   "metadata": {
    "scrolled": true
   },
   "outputs": [
    {
     "name": "stdout",
     "output_type": "stream",
     "text": [
      "[[0.38743544]\n",
      " [0.377615  ]\n",
      " [0.40701267]\n",
      " [0.4156392 ]\n",
      " [0.43884096]]\n"
     ]
    }
   ],
   "source": [
    "def exp_evidence(logits): \n",
    "    return np.exp(np.clip(logits,-10,10))\n",
    "\n",
    "def uncertainty_score( logits_output ):\n",
    "    evidence = exp_evidence(logits_output)\n",
    "    alpha = evidence + 1\n",
    "    u_score = 10 / np.sum(alpha, axis=1, keepdims=True)  # K = num_classes = 10\n",
    "    return u_score\n",
    "\n",
    "print(uncertainty_score(output))"
   ]
  }
 ],
 "metadata": {
  "kernelspec": {
   "display_name": "Python 3",
   "language": "python",
   "name": "python3"
  },
  "language_info": {
   "codemirror_mode": {
    "name": "ipython",
    "version": 3
   },
   "file_extension": ".py",
   "mimetype": "text/x-python",
   "name": "python",
   "nbconvert_exporter": "python",
   "pygments_lexer": "ipython3",
   "version": "3.6.5"
  }
 },
 "nbformat": 4,
 "nbformat_minor": 2
}
